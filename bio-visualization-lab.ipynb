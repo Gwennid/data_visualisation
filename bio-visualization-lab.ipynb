{
 "cells": [
  {
   "cell_type": "markdown",
   "metadata": {},
   "source": [
    "#Putting it all together: exploratory bioinformatics with matplotlib"
   ]
  },
  {
   "cell_type": "markdown",
   "metadata": {},
   "source": [
    "####About the author:\n",
    "Oxana is a data scientist based in Stockholm, Sweden. She is studying for a PhD in Bioinformatics, exploring molecular evolution patterns in eukaryotes. You can follow Oxana on Twitter [@Merenlin](http://twitter.com/Merenlin) or read [her blog](http://merenlin.com).\n",
    "\n",
    "###Introduction\n",
    "This notebook will give you the recipes of the most popular data visualizations I encounter in my work as a bioinformatician. If you always wondered what bioinformatics is all about or would like to create interactive\n",
    "visualization for your genomic data using [matplotlib](http://matplotlib.org/), this is the place to start. \n",
    "\n",
    "We will be working with real [gene expression](http://en.wikipedia.org/wiki/Gene_expression) data obtained by [Cap Analysis of Gene Expression(CAGE)](http://en.wikipedia.org/wiki/Cap_analysis_gene_expression) from human samples by the [FANTOM5](http://fantom.gsc.riken.jp/5/) consortium. We will be following a typical workflow of a bioinformatician exploring new data, looking for the outliers: interesting genes or samples, or general patterns in the data. "
   ]
  },
  {
   "cell_type": "markdown",
   "metadata": {},
   "source": [
    "### Obtaining the data"
   ]
  },
  {
   "cell_type": "markdown",
   "metadata": {},
   "source": [
    "FANTOM5 provides high precision data of thousands of human and mouse samples. The vastness of this data can be overwhelming and operating it locally is challenging. Luckily, there are many tools out there to make our life easier.  \n",
    "For creating a small data subset we can work with in this tutorial, I used [TET: Fantom 5 Table Extraction tool](http://fantom.gsc.riken.jp/5/tet). I picked a few human samples, mostly brain tissues with a few outliers, like uterus and downloaded a tab-separated file from the website. For more advanced data extraction, it's good to have a look at [TET's API](https://github.com/Hypercubed/TET/blob/master/README.md). \n",
    "I have picked normalized tpm(tags per million) and annotated data, so we can focus only on processed data for protein coding genes. All data files for this notebook are available on figshare: http://dx.doi.org/10.6084/m9.figshare.1430029"
   ]
  },
  {
   "cell_type": "markdown",
   "metadata": {},
   "source": [
    "###Loading the dataset"
   ]
  },
  {
   "cell_type": "markdown",
   "metadata": {},
   "source": [
    "We are loading the data from the .tsv file, skipping the first two columns (00Annotation and short_description)."
   ]
  },
  {
   "cell_type": "code",
   "execution_count": 11,
   "metadata": {
    "collapsed": false,
    "scrolled": false
   },
   "outputs": [
    {
     "name": "stdout",
     "output_type": "stream",
     "text": [
      "Number of genes:201802\n"
     ]
    }
   ],
   "source": [
    "import numpy as np\n",
    "import pandas as pd\n",
    "\n",
    "\n",
    "# Read data from a tab separated file you downloaded\n",
    "#each line of the data is a gene, each column is a tissue sample\n",
    "\n",
    "#data = np.genfromtxt(\"hg19.cage_peak_phase1and2combined_tpm_ann_decoded.osc.txt.gz.extract.tsv\",\n",
    "#                    comments=\"#\", delimiter='\\t', usecols=range(2,73,1) , dtype=None, names=True)\n",
    "#df = pd.DataFrame(data)\n",
    "#df.head()\n",
    "#comment: i am working with python3 here, so dtype=None. For python2.7, dtype=object\n",
    "\n",
    "#print it out, make sure the expression data is of type float -> yes it is\n",
    "#print out how many genes there are in your dataset\n",
    "\n",
    "print(\"Number of genes:\" + str(len(df)))\n",
    "\n",
    "#if the expression data is not of type float, see below:\n",
    "#df[df.columns[1:]] = df[df.columns[1:]].astype('float').head()"
   ]
  },
  {
   "cell_type": "markdown",
   "metadata": {},
   "source": [
    " Let's also make sure that we filter out those genes for which the [Uniprot](http://www.uniprot.org/) Id is unknown. That will reduce our data, besides, we are only interested in proteins in this analysis. "
   ]
  },
  {
   "cell_type": "code",
   "execution_count": 13,
   "metadata": {
    "collapsed": false
   },
   "outputs": [
    {
     "data": {
      "text/html": [
       "<div>\n",
       "<table border=\"1\" class=\"dataframe\">\n",
       "  <thead>\n",
       "    <tr style=\"text-align: right;\">\n",
       "      <th></th>\n",
       "      <th>uniprot_id</th>\n",
       "      <th>Astrocyte__cerebellum_donor1CNhs1132111500119F6</th>\n",
       "      <th>Astrocyte__cerebral_cortex_donor1CNhs1086411235116D2</th>\n",
       "      <th>brain_adult_donor1CNhs1179610084102B3</th>\n",
       "      <th>brain_adult_pool1CNhs1061710012101C3</th>\n",
       "      <th>brain_fetal_pool1CNhs1179710085102B4</th>\n",
       "      <th>breast_adult_donor1CNhs1179210080102A8</th>\n",
       "      <th>cerebellum__adult_donor10196CNhs1379910173103C2</th>\n",
       "      <th>cerebellum_adult_donor10252CNhs1232310166103B4</th>\n",
       "      <th>cerebellum_newborn_donor10223CNhs1407510357105E6</th>\n",
       "      <th>...</th>\n",
       "      <th>thalamus__adult_donor10196CNhs1379410168103B6</th>\n",
       "      <th>thalamus_adult_donor10252CNhs1231410154103A1</th>\n",
       "      <th>thalamus_adult_donor10258_tech_rep1CNhs1422310370105G1</th>\n",
       "      <th>thalamus_adult_donor10258_tech_rep2CNhs1455110370105G1</th>\n",
       "      <th>thalamus_newborn_donor10223CNhs1408410366105F6</th>\n",
       "      <th>throat_fetal_donor1CNhs1177010061101H7</th>\n",
       "      <th>thyroid_fetal_donor1CNhs1176910060101H6</th>\n",
       "      <th>tongue_epidermis_fungiform_papillae_donor1CNhs1346010288104F9</th>\n",
       "      <th>umbilical_cord_fetal_donor1CNhs1176510057101H3</th>\n",
       "      <th>uterus_fetal_donor1CNhs1176310055101H1</th>\n",
       "    </tr>\n",
       "  </thead>\n",
       "  <tbody>\n",
       "    <tr>\n",
       "      <th>24</th>\n",
       "      <td>b'uniprot:Q8WWQ2'</td>\n",
       "      <td>0.00</td>\n",
       "      <td>0.00</td>\n",
       "      <td>0.00</td>\n",
       "      <td>0.00</td>\n",
       "      <td>0.00</td>\n",
       "      <td>0.00</td>\n",
       "      <td>0.00</td>\n",
       "      <td>0.00</td>\n",
       "      <td>0.00</td>\n",
       "      <td>...</td>\n",
       "      <td>1.66</td>\n",
       "      <td>0.10</td>\n",
       "      <td>0.00</td>\n",
       "      <td>0.43</td>\n",
       "      <td>0.00</td>\n",
       "      <td>0</td>\n",
       "      <td>0.00</td>\n",
       "      <td>0.00</td>\n",
       "      <td>0.00</td>\n",
       "      <td>0.00</td>\n",
       "    </tr>\n",
       "    <tr>\n",
       "      <th>25</th>\n",
       "      <td>b'uniprot:Q8WWQ2'</td>\n",
       "      <td>0.00</td>\n",
       "      <td>0.00</td>\n",
       "      <td>0.00</td>\n",
       "      <td>0.09</td>\n",
       "      <td>0.00</td>\n",
       "      <td>0.00</td>\n",
       "      <td>0.00</td>\n",
       "      <td>0.11</td>\n",
       "      <td>0.00</td>\n",
       "      <td>...</td>\n",
       "      <td>0.00</td>\n",
       "      <td>0.10</td>\n",
       "      <td>0.00</td>\n",
       "      <td>0.21</td>\n",
       "      <td>0.00</td>\n",
       "      <td>0</td>\n",
       "      <td>0.00</td>\n",
       "      <td>0.00</td>\n",
       "      <td>0.00</td>\n",
       "      <td>1.63</td>\n",
       "    </tr>\n",
       "    <tr>\n",
       "      <th>26</th>\n",
       "      <td>b'uniprot:Q8WWQ2'</td>\n",
       "      <td>0.00</td>\n",
       "      <td>0.00</td>\n",
       "      <td>0.00</td>\n",
       "      <td>0.00</td>\n",
       "      <td>0.00</td>\n",
       "      <td>0.72</td>\n",
       "      <td>0.00</td>\n",
       "      <td>0.00</td>\n",
       "      <td>0.00</td>\n",
       "      <td>...</td>\n",
       "      <td>0.00</td>\n",
       "      <td>0.31</td>\n",
       "      <td>1.41</td>\n",
       "      <td>0.21</td>\n",
       "      <td>0.00</td>\n",
       "      <td>0</td>\n",
       "      <td>0.00</td>\n",
       "      <td>0.00</td>\n",
       "      <td>2.35</td>\n",
       "      <td>1.63</td>\n",
       "    </tr>\n",
       "    <tr>\n",
       "      <th>27</th>\n",
       "      <td>b'uniprot:Q8WWQ2,uniprot:Q2M1H9'</td>\n",
       "      <td>0.00</td>\n",
       "      <td>0.00</td>\n",
       "      <td>0.00</td>\n",
       "      <td>0.09</td>\n",
       "      <td>0.00</td>\n",
       "      <td>0.00</td>\n",
       "      <td>0.00</td>\n",
       "      <td>0.33</td>\n",
       "      <td>0.00</td>\n",
       "      <td>...</td>\n",
       "      <td>0.83</td>\n",
       "      <td>0.21</td>\n",
       "      <td>0.00</td>\n",
       "      <td>0.00</td>\n",
       "      <td>0.00</td>\n",
       "      <td>0</td>\n",
       "      <td>0.00</td>\n",
       "      <td>0.00</td>\n",
       "      <td>0.00</td>\n",
       "      <td>0.41</td>\n",
       "    </tr>\n",
       "    <tr>\n",
       "      <th>29</th>\n",
       "      <td>b'uniprot:Q9NRU3'</td>\n",
       "      <td>0.00</td>\n",
       "      <td>0.29</td>\n",
       "      <td>1.94</td>\n",
       "      <td>1.21</td>\n",
       "      <td>0.00</td>\n",
       "      <td>0.72</td>\n",
       "      <td>1.53</td>\n",
       "      <td>1.22</td>\n",
       "      <td>0.00</td>\n",
       "      <td>...</td>\n",
       "      <td>0.00</td>\n",
       "      <td>0.31</td>\n",
       "      <td>2.82</td>\n",
       "      <td>1.07</td>\n",
       "      <td>0.71</td>\n",
       "      <td>0</td>\n",
       "      <td>0.00</td>\n",
       "      <td>0.00</td>\n",
       "      <td>0.00</td>\n",
       "      <td>0.81</td>\n",
       "    </tr>\n",
       "    <tr>\n",
       "      <th>30</th>\n",
       "      <td>b'uniprot:Q9NRU3'</td>\n",
       "      <td>0.25</td>\n",
       "      <td>0.00</td>\n",
       "      <td>15.51</td>\n",
       "      <td>12.25</td>\n",
       "      <td>5.99</td>\n",
       "      <td>0.72</td>\n",
       "      <td>25.94</td>\n",
       "      <td>14.38</td>\n",
       "      <td>4.14</td>\n",
       "      <td>...</td>\n",
       "      <td>1.66</td>\n",
       "      <td>5.17</td>\n",
       "      <td>24.00</td>\n",
       "      <td>16.21</td>\n",
       "      <td>14.96</td>\n",
       "      <td>0</td>\n",
       "      <td>0.61</td>\n",
       "      <td>5.16</td>\n",
       "      <td>4.69</td>\n",
       "      <td>0.41</td>\n",
       "    </tr>\n",
       "  </tbody>\n",
       "</table>\n",
       "<p>6 rows × 71 columns</p>\n",
       "</div>"
      ],
      "text/plain": [
       "                          uniprot_id  \\\n",
       "24                 b'uniprot:Q8WWQ2'   \n",
       "25                 b'uniprot:Q8WWQ2'   \n",
       "26                 b'uniprot:Q8WWQ2'   \n",
       "27  b'uniprot:Q8WWQ2,uniprot:Q2M1H9'   \n",
       "29                 b'uniprot:Q9NRU3'   \n",
       "30                 b'uniprot:Q9NRU3'   \n",
       "\n",
       "    Astrocyte__cerebellum_donor1CNhs1132111500119F6  \\\n",
       "24                                             0.00   \n",
       "25                                             0.00   \n",
       "26                                             0.00   \n",
       "27                                             0.00   \n",
       "29                                             0.00   \n",
       "30                                             0.25   \n",
       "\n",
       "    Astrocyte__cerebral_cortex_donor1CNhs1086411235116D2  \\\n",
       "24                                               0.00      \n",
       "25                                               0.00      \n",
       "26                                               0.00      \n",
       "27                                               0.00      \n",
       "29                                               0.29      \n",
       "30                                               0.00      \n",
       "\n",
       "    brain_adult_donor1CNhs1179610084102B3  \\\n",
       "24                                   0.00   \n",
       "25                                   0.00   \n",
       "26                                   0.00   \n",
       "27                                   0.00   \n",
       "29                                   1.94   \n",
       "30                                  15.51   \n",
       "\n",
       "    brain_adult_pool1CNhs1061710012101C3  \\\n",
       "24                                  0.00   \n",
       "25                                  0.09   \n",
       "26                                  0.00   \n",
       "27                                  0.09   \n",
       "29                                  1.21   \n",
       "30                                 12.25   \n",
       "\n",
       "    brain_fetal_pool1CNhs1179710085102B4  \\\n",
       "24                                  0.00   \n",
       "25                                  0.00   \n",
       "26                                  0.00   \n",
       "27                                  0.00   \n",
       "29                                  0.00   \n",
       "30                                  5.99   \n",
       "\n",
       "    breast_adult_donor1CNhs1179210080102A8  \\\n",
       "24                                    0.00   \n",
       "25                                    0.00   \n",
       "26                                    0.72   \n",
       "27                                    0.00   \n",
       "29                                    0.72   \n",
       "30                                    0.72   \n",
       "\n",
       "    cerebellum__adult_donor10196CNhs1379910173103C2  \\\n",
       "24                                             0.00   \n",
       "25                                             0.00   \n",
       "26                                             0.00   \n",
       "27                                             0.00   \n",
       "29                                             1.53   \n",
       "30                                            25.94   \n",
       "\n",
       "    cerebellum_adult_donor10252CNhs1232310166103B4  \\\n",
       "24                                            0.00   \n",
       "25                                            0.11   \n",
       "26                                            0.00   \n",
       "27                                            0.33   \n",
       "29                                            1.22   \n",
       "30                                           14.38   \n",
       "\n",
       "    cerebellum_newborn_donor10223CNhs1407510357105E6  \\\n",
       "24                                              0.00   \n",
       "25                                              0.00   \n",
       "26                                              0.00   \n",
       "27                                              0.00   \n",
       "29                                              0.00   \n",
       "30                                              4.14   \n",
       "\n",
       "                     ...                    \\\n",
       "24                   ...                     \n",
       "25                   ...                     \n",
       "26                   ...                     \n",
       "27                   ...                     \n",
       "29                   ...                     \n",
       "30                   ...                     \n",
       "\n",
       "    thalamus__adult_donor10196CNhs1379410168103B6  \\\n",
       "24                                           1.66   \n",
       "25                                           0.00   \n",
       "26                                           0.00   \n",
       "27                                           0.83   \n",
       "29                                           0.00   \n",
       "30                                           1.66   \n",
       "\n",
       "    thalamus_adult_donor10252CNhs1231410154103A1  \\\n",
       "24                                          0.10   \n",
       "25                                          0.10   \n",
       "26                                          0.31   \n",
       "27                                          0.21   \n",
       "29                                          0.31   \n",
       "30                                          5.17   \n",
       "\n",
       "    thalamus_adult_donor10258_tech_rep1CNhs1422310370105G1  \\\n",
       "24                                               0.00        \n",
       "25                                               0.00        \n",
       "26                                               1.41        \n",
       "27                                               0.00        \n",
       "29                                               2.82        \n",
       "30                                              24.00        \n",
       "\n",
       "    thalamus_adult_donor10258_tech_rep2CNhs1455110370105G1  \\\n",
       "24                                               0.43        \n",
       "25                                               0.21        \n",
       "26                                               0.21        \n",
       "27                                               0.00        \n",
       "29                                               1.07        \n",
       "30                                              16.21        \n",
       "\n",
       "    thalamus_newborn_donor10223CNhs1408410366105F6  \\\n",
       "24                                            0.00   \n",
       "25                                            0.00   \n",
       "26                                            0.00   \n",
       "27                                            0.00   \n",
       "29                                            0.71   \n",
       "30                                           14.96   \n",
       "\n",
       "    throat_fetal_donor1CNhs1177010061101H7  \\\n",
       "24                                       0   \n",
       "25                                       0   \n",
       "26                                       0   \n",
       "27                                       0   \n",
       "29                                       0   \n",
       "30                                       0   \n",
       "\n",
       "    thyroid_fetal_donor1CNhs1176910060101H6  \\\n",
       "24                                     0.00   \n",
       "25                                     0.00   \n",
       "26                                     0.00   \n",
       "27                                     0.00   \n",
       "29                                     0.00   \n",
       "30                                     0.61   \n",
       "\n",
       "    tongue_epidermis_fungiform_papillae_donor1CNhs1346010288104F9  \\\n",
       "24                                               0.00               \n",
       "25                                               0.00               \n",
       "26                                               0.00               \n",
       "27                                               0.00               \n",
       "29                                               0.00               \n",
       "30                                               5.16               \n",
       "\n",
       "    umbilical_cord_fetal_donor1CNhs1176510057101H3  \\\n",
       "24                                            0.00   \n",
       "25                                            0.00   \n",
       "26                                            2.35   \n",
       "27                                            0.00   \n",
       "29                                            0.00   \n",
       "30                                            4.69   \n",
       "\n",
       "    uterus_fetal_donor1CNhs1176310055101H1  \n",
       "24                                    0.00  \n",
       "25                                    1.63  \n",
       "26                                    1.63  \n",
       "27                                    0.41  \n",
       "29                                    0.81  \n",
       "30                                    0.41  \n",
       "\n",
       "[6 rows x 71 columns]"
      ]
     },
     "execution_count": 13,
     "metadata": {},
     "output_type": "execute_result"
    }
   ],
   "source": [
    "# Remove rows from the data frame for which uniprot_id column is 'NA' or ''\n",
    "# We have 'b' in the dataframe because this notebook is written in Python2.7 and the computer has Python 3.\n",
    "df=df[(df.uniprot_id != b'NA') & (df.uniprot_id != b'')]\n",
    "\n",
    "# Print out the first 5-10 rows of the dataframe again\n",
    "df.iloc[5:11]"
   ]
  },
  {
   "cell_type": "markdown",
   "metadata": {},
   "source": [
    "###1. MA scatter plot comparing newborn and adult tissues"
   ]
  },
  {
   "cell_type": "markdown",
   "metadata": {
    "collapsed": false
   },
   "source": [
    "[MA plot](http://en.wikipedia.org/wiki/MA_plot) is a popular visualization tool coming from the microarray analysis. It allows researchers to explore true statistical differences between the two samples, arrays or other observations. We are going to look at the two samples of substantia nigra tissues from the brain of an adult and a newborn person. How do their genetic profiles differ? \n",
    "\n",
    "Firs, let's subset our big dataframe to only include the samples of interest. We will also prefilter the data to not include genes that are not expressed in these tissues. \n"
   ]
  },
  {
   "cell_type": "code",
   "execution_count": 16,
   "metadata": {
    "collapsed": false
   },
   "outputs": [],
   "source": [
    "# pick two columns of the dataframe that makes sense to compare\n",
    "#df.columns\n",
    "# subset the data frame only for this columns\n",
    "\n",
    "df_MA=df[[\"uniprot_id\",'substantia_nigra_adult_donor10258CNhs1422410371105G2', 'substantia_nigra_newborn_donor10223CNhs1407610358105E7']]\n",
    "df_MA.head()\n",
    "\n",
    "#remove rows with all zeros\n",
    "df_MA = df_MA[(df_MA.T != 0).any()]"
   ]
  },
  {
   "cell_type": "markdown",
   "metadata": {},
   "source": [
    "There are many different methods of computing the average expression level(A) between the two observations and\n",
    "the mean variation(M). To keep things simple, for this example we will just compare the mean avg on the x-axis vs the minus on the y-axis.\n",
    "Our data is already normalized and preprocessed, so this will be enough to find the clear outliers. \n",
    "\n",
    "Don't forget to plot on the log scales on both axis."
   ]
  },
  {
   "cell_type": "code",
   "execution_count": 22,
   "metadata": {
    "collapsed": false
   },
   "outputs": [
    {
     "data": {
      "text/plain": [
       "<matplotlib.collections.PathCollection at 0x7f8b869fbc88>"
      ]
     },
     "execution_count": 22,
     "metadata": {},
     "output_type": "execute_result"
    },
    {
     "data": {
      "image/png": "[encoded data removed]",
      "text/plain": [
       "<matplotlib.figure.Figure at 0x7f8b7ba64550>"
      ]
     },
     "metadata": {},
     "output_type": "display_data"
    }
   ],
   "source": [
    "import matplotlib.pyplot as plt\n",
    "plt.style.use('default') #better for python2.7 / python3 compatibility\n",
    "%matplotlib inline\n",
    "\n",
    "#A = (x+y)/2\n",
    "#M = x - y\n",
    "type(df_MA.iloc[1,1])\n",
    "A = (df_MA.iloc[:,1] + df_MA.iloc[:,2])/2\n",
    "M = df_MA.iloc[:,1] - df_MA.iloc[:,2]\n",
    "len(A)\n",
    "len(M)\n",
    "\n",
    "#Plot a scatter plot of M vs A\n",
    "plt.scatter(A,M)"
   ]
  },
  {
   "cell_type": "markdown",
   "metadata": {},
   "source": [
    "Now we can already start exploring some of the genes, that behave differently in adult vs newborn samples. "
   ]
  },
  {
   "cell_type": "markdown",
   "metadata": {
    "collapsed": true
   },
   "source": [
    "### 2. Histograms of expression breadth and average expression levels"
   ]
  },
  {
   "cell_type": "markdown",
   "metadata": {},
   "source": [
    "Another timeless visualization for exploratory data analysis is histogram.\n",
    "\n",
    "Here we will also practice creating subplots."
   ]
  },
  {
   "cell_type": "code",
   "execution_count": 32,
   "metadata": {
    "collapsed": false
   },
   "outputs": [
    {
     "data": {
      "text/plain": [
       "array([[<matplotlib.axes._subplots.AxesSubplot object at 0x7f8b7484a588>,\n",
       "        <matplotlib.axes._subplots.AxesSubplot object at 0x7f8b779fa1d0>]], dtype=object)"
      ]
     },
     "execution_count": 32,
     "metadata": {},
     "output_type": "execute_result"
    },
    {
     "data": {
      "text/plain": [
       "<matplotlib.figure.Figure at 0x7f8b7617ba20>"
      ]
     },
     "metadata": {},
     "output_type": "display_data"
    },
    {
     "data": {
      "image/png": "[encoded data removed]",
      "text/plain": [
       "<matplotlib.figure.Figure at 0x7f8b869e8e10>"
      ]
     },
     "metadata": {},
     "output_type": "display_data"
    }
   ],
   "source": [
    "df['breadth'] =  (df[df.columns[1:].values.tolist()].astype('float')>0).sum(axis=1)\n",
    "#the '>0' convert the expression values into boolean (if >0, True)\n",
    "\n",
    "#compute average expression column\n",
    "df['avg'] = (df[df.columns[1:].values.tolist()].astype('float')).mean(axis=1)\n",
    "\n",
    "# plot two subplots of histograms of breadth and avg columns, use pandas tools only ;)\n",
    "# try with and without log scale\n",
    "df_avg_breadth = df.loc[:,['avg','breadth']]\n",
    "#if you want to use the tool DataFrame.hist() to create subplots, you need to convert the object to a DataFrame\n",
    "df_avg_breadth = pd.DataFrame(df_avg_breadth)\n",
    "plt.figure()\n",
    "\n",
    "#without log scale\n",
    "df_avg_breadth.diff().hist()\n",
    "\n",
    "#with log scale\n"
   ]
  },
  {
   "cell_type": "markdown",
   "metadata": {},
   "source": [
    "Here is where interactive visualization comes in handy. Average expression level distribution looks very wide because of a few outliers, - highly expressed genes and most of the genes actually being expressed at a very low level. But instead of trying to adjust the limits on the x-axis, we can just zoom in on the interesting area. Try it!"
   ]
  },
  {
   "cell_type": "markdown",
   "metadata": {},
   "source": [
    "### 3. Scatter plot with a trend line"
   ]
  },
  {
   "cell_type": "markdown",
   "metadata": {},
   "source": [
    "This kind of plot must be the most popular way to visualize a trend in biological data. We seek clear\n",
    "and simple patterns demonstrating the relationships between different biological parameters or observations.\n",
    "Plot.ly's Python API does not come with out-of-the-box tools for plotting trend lines, but numpy has all we need. \n",
    "\n",
    "Let's say we want to plot the relationship between the breadth of expression and the average level. Again, for speed and simplicity, we only take the first 1000 genes in our data frame. Let's try to fit a polinomial function to our data points and plot both at the same time. By using plot.ly it's simple, just send the regression line trace to the same figure.  "
   ]
  },
  {
   "cell_type": "code",
   "execution_count": 77,
   "metadata": {
    "collapsed": false
   },
   "outputs": [
    {
     "data": {
      "text/plain": [
       "<matplotlib.collections.PathCollection at 0x7f9e2c63c550>"
      ]
     },
     "execution_count": 77,
     "metadata": {},
     "output_type": "execute_result"
    },
    {
     "data": {
      "image/png": "[encoded data removed]",
      "text/plain": [
       "<matplotlib.figure.Figure at 0x7f9e2e07e690>"
      ]
     },
     "metadata": {},
     "output_type": "display_data"
    }
   ],
   "source": [
    "# Plot a scatter plot of the relationship betwen breadth of expression and avg with a trend line\n",
    "df_1000 = df.iloc[0:1000]\n",
    "# Tips for trend line\n",
    "#coefficients = np.polyfit(x, y, 6)\n",
    "#polynomial = np.poly1d(coefficients)\n",
    "#r_x = np.arange(0, 72, 0.5) # returns evenly spaced values within a given interval.\n",
    "#r_y = polynomial(r_x)\n",
    "import matplotlib.pyplot as plt\n",
    "plt.scatter(df_1000['breadth'],df_1000['avg'])"
   ]
  },
  {
   "cell_type": "markdown",
   "metadata": {},
   "source": [
    "### 4. Heatmap of gene expression"
   ]
  },
  {
   "cell_type": "markdown",
   "metadata": {},
   "source": [
    "Heatmap is another great way to visualize big amounts of data. It allows to clearly see the outliers and explore the \n",
    "general clustering patterns. Are genes in different tissues, but the same donor expressed similarly or do the same tissues\n",
    "from different donors tend to cluster together? Do brains of newborns and adults differ in gene expression patterns? \n",
    "Heatmaps of gene expression can give you good leads to questions like these. "
   ]
  },
  {
   "cell_type": "markdown",
   "metadata": {},
   "source": [
    "There is one catch with generating a heatmap for biological samples using plot.ly. Labels of the heatmap will actually\n",
    "be coordinates on the x and y axis. For the plot to look less cluttered, I have removed the grid and set dtick to 1. Setting autotick to False also proved useful in order to see all the samples correctly labeled. \n",
    "\n",
    "To improve readability, one often also needs to process samples names. In our data, as you probably noticed, sample names include everything: tissue name, annotation, donor, age. The name becomes long and impossible to display in a plot. Simple shortening will not work with plot.ly though, since the coordinates must be unique! \n",
    "\n",
    "For this tutorial I've cheated a bit, by just adding an integer to each shortened name, I'm sure you can handle the string processing of your samples names on your own ;-)"
   ]
  },
  {
   "cell_type": "code",
   "execution_count": 9,
   "metadata": {
    "collapsed": false
   },
   "outputs": [],
   "source": [
    "from scipy.spatial.distance import pdist, squareform\n",
    "from scipy.cluster.hierarchy import linkage, dendrogram\n",
    "\n",
    "# Shorten names \n",
    "#cols = [col for col in df.columns if col not in ['breadth', 'uniprot_id', 'avg']]\n",
    "#short_cols = [col[0:20] for col in cols]\n",
    "#short_cols = [short_cols[i] + str(i) for i in range(1,len(short_cols),1)]\n",
    "\n",
    "#Compute a distance matrix between columns and save it in square form\n",
    "#data = squareform(pdist(...))\n",
    "\n",
    "# plot a heatmap"
   ]
  },
  {
   "cell_type": "markdown",
   "metadata": {},
   "source": [
    "### 5. Network of gene interactions"
   ]
  },
  {
   "cell_type": "markdown",
   "metadata": {},
   "source": [
    "Now at some point in our biological investigations, we've got to dig deeper and look at concrete genes/proteins we found interesting. \n",
    "\n",
    "If you go back to our first plot, you'll see that one of the points that stand out corresponds to Q16352(Alpha-internexin, AINX_HUMAN). This gene demonstrates both high level of expression in substantia nigra and the difference between adult and newborn samples is also significant. Which kind of makes sense, since this protein is involved in the morphogenesis of neurons. One of the ways to find out more about a protein is to look at it's interaction networks. \n",
    "\n",
    "I've downloaded the interaction network in tab-separated format from a popular database [string-db.org](http://string-db.org/), so there is nothing novel in plotting it, we are merely reproducing the graph on their website, but, hopefully, you'll be able to use it for your future contributions to science! "
   ]
  },
  {
   "cell_type": "code",
   "execution_count": 10,
   "metadata": {
    "collapsed": false
   },
   "outputs": [],
   "source": [
    "import networkx as nx\n",
    "\n",
    "#x = np.genfromtxt('http://figshare.com/download/file/2088824', delimiter=\"\\t\", names=True, usecols=[0,1,14],\n",
    "#                  dtype=['S5','S5','f8'])\n",
    "#labels = x.dtype.names\n",
    "\n",
    "# Create an empty graph\n",
    "# G =  \n",
    "\n",
    "# Add edges to it from x\n",
    "\n",
    "# Plot G"
   ]
  },
  {
   "cell_type": "markdown",
   "metadata": {},
   "source": [
    "Now you see our protein under it's gene name(INA) in the center of the graph. "
   ]
  },
  {
   "cell_type": "markdown",
   "metadata": {
    "collapsed": true
   },
   "source": [
    "Now, that's all, folks! I hope you enjoyed this intro to exploratory bioinformatics and got inspired to create beautiful interactive visualizations for your biological data. "
   ]
  }
 ],
 "metadata": {
  "kernelspec": {
   "display_name": "Python 3",
   "language": "python",
   "name": "python3"
  },
  "language_info": {
   "codemirror_mode": {
    "name": "ipython",
    "version": 3
   },
   "file_extension": ".py",
   "mimetype": "text/x-python",
   "name": "python",
   "nbconvert_exporter": "python",
   "pygments_lexer": "ipython3",
   "version": "3.5.0"
  }
 },
 "nbformat": 4,
 "nbformat_minor": 0
}
